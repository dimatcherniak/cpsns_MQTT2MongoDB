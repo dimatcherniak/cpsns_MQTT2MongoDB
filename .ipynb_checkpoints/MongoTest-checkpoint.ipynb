{
 "cells": [
  {
   "cell_type": "code",
   "execution_count": 2,
   "id": "12727a19-7c86-4729-9f91-81ab8b623c9b",
   "metadata": {},
   "outputs": [
    {
     "ename": "IndentationError",
     "evalue": "unindent does not match any outer indentation level (<tokenize>, line 16)",
     "output_type": "error",
     "traceback": [
      "\u001b[0;36m  File \u001b[0;32m\"<tokenize>\"\u001b[0;36m, line \u001b[0;32m16\u001b[0m\n\u001b[0;31m    data = {\u001b[0m\n\u001b[0m    ^\u001b[0m\n\u001b[0;31mIndentationError\u001b[0m\u001b[0;31m:\u001b[0m unindent does not match any outer indentation level\n"
     ]
    }
   ],
   "source": [
    "'''\n",
    "        \"Destination\": \"mongodb\",\n",
    "         \"DatabaseConnection\": \"mongodb://localhost:27018/\",\n",
    "         \"DatabaseName\": \"mydatabase_RPi_local\",\n",
    "         \"DatabaseCollection\": \"mycollection_RPi_local\",\n",
    "'''\n",
    "from pymongo import MongoClient\n",
    "bDatabaseConnectionEstablished = False\n",
    "if not bDatabaseConnectionEstablished:\n",
    "        bDatabaseConnectionEstablished = True\n",
    "        client = MongoClient(json_config[\"Output\"][\"DatabaseConnection\"])\n",
    "        db = client[json_config[\"Output\"][\"DatabaseName\"]]\n",
    "        collection = db[json_config[\"Output\"][\"DatabaseCollection\"]]\n",
    "    \n",
    "    # insert the data\n",
    "    data = {\n",
    "        \"TimeAxis\": {\n",
    "            \"StartSecFromEpoch\": timeAxis[\"OriginSecFromEpoch\"], \n",
    "            \"Nanosec\": timeAxis[\"Nanosec\"],\n",
    "            \"Fs\": 4096},                \n",
    "        \"Channels\": listMetadata,\n",
    "        \"Data\": (arrayToFlush.T).tolist()\n",
    "    }\n",
    "    collection.insert_one(data)"
   ]
  },
  {
   "cell_type": "code",
   "execution_count": 6,
   "id": "13c80d74-5093-4f5d-9e99-604fcb7c5b73",
   "metadata": {},
   "outputs": [
    {
     "name": "stdout",
     "output_type": "stream",
     "text": [
      "Connected successfully to MongoDB!\n",
      "Collection inserted!\n"
     ]
    }
   ],
   "source": [
    "from pymongo import MongoClient\n",
    "import numpy as np\n",
    "\n",
    "# Connection details\n",
    "server_url = \"dtl-server-2.st.lab.au.dk\"\n",
    "port = 8087\n",
    "username = \"hbk1\"\n",
    "password = \"hbk1shffd\"\n",
    "database_name = \"hbk\"\n",
    "collection_name = \"my_collection\"\n",
    "\n",
    "# Create MongoDB connection string\n",
    "#uri = f\"mongodb://{username}:{password}@{server_url}:{port}/{database_name}\"\n",
    "uri = f\"mongodb://{username}:{password}@{server_url}:{port}/{database_name}?tls=true\"\n",
    "\n",
    "# Establish connection\n",
    "client = MongoClient(uri)\n",
    "\n",
    "# Access the database\n",
    "db = client[database_name]\n",
    "\n",
    "# Test data \n",
    "arrayToFlush = np.full((100, 2), 3, dtype=np.float32)\n",
    "# Test the connection\n",
    "try:\n",
    "    db.command(\"ping\")\n",
    "    print(\"Connected successfully to MongoDB!\")\n",
    "except Exception as e:\n",
    "    print(\"Connection failed:\", e)\n",
    "\n",
    "collection = db[collection_name]\n",
    "# insert the data\n",
    "data = {\n",
    "    \"Data\": (arrayToFlush.T).tolist()\n",
    "}\n",
    "collection.insert_one(data)\n",
    "print(\"Collection inserted!\")"
   ]
  },
  {
   "cell_type": "code",
   "execution_count": 13,
   "id": "46fd4b29-2900-44d5-8214-fdbde1a8025d",
   "metadata": {},
   "outputs": [
    {
     "ename": "NameError",
     "evalue": "name 'size' is not defined",
     "output_type": "error",
     "traceback": [
      "\u001b[0;31m---------------------------------------------------------------------------\u001b[0m",
      "\u001b[0;31mNameError\u001b[0m                                 Traceback (most recent call last)",
      "\u001b[0;32m<ipython-input-13-e89342d3c335>\u001b[0m in \u001b[0;36m<module>\u001b[0;34m\u001b[0m\n\u001b[1;32m      2\u001b[0m \u001b[0mtotal_seconds\u001b[0m \u001b[0;34m=\u001b[0m \u001b[0;36m1234567890\u001b[0m\u001b[0;34m\u001b[0m\u001b[0;34m\u001b[0m\u001b[0m\n\u001b[1;32m      3\u001b[0m \u001b[0mutcAtFirstSample\u001b[0m \u001b[0;34m=\u001b[0m \u001b[0mdatetime\u001b[0m\u001b[0;34m.\u001b[0m\u001b[0mutcfromtimestamp\u001b[0m\u001b[0;34m(\u001b[0m\u001b[0mtotal_seconds\u001b[0m\u001b[0;34m)\u001b[0m\u001b[0;34m\u001b[0m\u001b[0;34m\u001b[0m\u001b[0m\n\u001b[0;32m----> 4\u001b[0;31m \u001b[0mprint\u001b[0m\u001b[0;34m(\u001b[0m\u001b[0;34mf\"Type {type(utcAtFirstSample)} is {size(utcAtFirstSample)}\"\u001b[0m\u001b[0;34m)\u001b[0m\u001b[0;34m\u001b[0m\u001b[0;34m\u001b[0m\u001b[0m\n\u001b[0m",
      "\u001b[0;31mNameError\u001b[0m: name 'size' is not defined"
     ]
    }
   ],
   "source": [
    "from datetime import datetime\n",
    "import sys\n",
    "\n",
    "total_seconds = 1234567890\n",
    "utcAtFirstSample = datetime.utcfromtimestamp(total_seconds)\n",
    "print(f\"Type {type(utcAtFirstSample)} is {sys.getsizeof(utcAtFirstSample)}\")"
   ]
  }
 ],
 "metadata": {
  "kernelspec": {
   "display_name": "Python 3",
   "language": "python",
   "name": "python3"
  },
  "language_info": {
   "codemirror_mode": {
    "name": "ipython",
    "version": 3
   },
   "file_extension": ".py",
   "mimetype": "text/x-python",
   "name": "python",
   "nbconvert_exporter": "python",
   "pygments_lexer": "ipython3",
   "version": "3.8.10"
  }
 },
 "nbformat": 4,
 "nbformat_minor": 5
}
